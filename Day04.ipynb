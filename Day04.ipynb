def find_xmas(text_file):
    """Take input a text file and returns the number of times the word XMAS appears in the text file"""
    
    input = text_file.splitlines()
    count_horizontally = 0
    count_vertically = 0
    count_diagonally = 0

    #Count horizental:
    """Find occurences XMAS or SAMX in each line"""
    for line in input:
        count_in_line = line.count("XMAS") + line.count("SAMX")  # Count occurrences in the current line
        count_horizontally += count_in_line

    #Count vertical:
    """Goes through every line, if encounter an X or S, check if the next 3 letters are MAS or AMX within the same column"""
    for line in range(len(input)-3):
        for column in range(len(input[line])):
            if input[line][column] == "X":
                if input[line+1][column] == "M" and input[line+2][column] == "A" and input[line+3][column] == "S":
                    count_vertically += 1
            elif input[line][column] == "S":
                if input[line +1][column] == "A" and input[line +2][column] == "M" and input[line +3][column] == "X":
                    count_vertically += 1

    
    #Count diagonally:
    for line in range(len(input)-3):
        for column in range(len(input[line])):
            #Direction down right to find XMAS
            if input[line][column] == "X" and column <= len(input[line]) - 3:
                if input[line+1][column+1] == "M" and input[line+2][column+2] == "A" and input[line+3][column+3] == "S":
                    count_diagonally += 1
            #Direction down left to find XMAS
            if input[line][column] == "X" and column >= 3:
                if input[line+1][column-1] == "M" and input[line+2][column-2] == "A" and input[line+3][column-3] == "S":
                    count_diagonally += 1
            #Direction up left to find XMAS or equivalently down right to find SAMX
            if input[line][column] == "S" and column <= len(input[line]) - 3:
                if (input[line+1][column+1] == "A" and input[line+2][column+2] == "M" and input[line+3][column+3] == "X"):
                    count_diagonally += 1
            #Direction up right to find XMAS or equivalently down left to find SAMX
            if input[line][column] == "S" and column >= 3:
                if (input[line+1][column-1] == "A" and input[line+2][column-2] == "M" and input[line+3][column-3] == "X"):
                    count_diagonally += 1
            else:
                pass
    print(f"word appears {count_horizontally} times horizentally and {count_vertically} times vertically and {count_diagonally} times diagonally")
    print(f"word appears {count_horizontally + count_vertically + count_diagonally} times in total")
