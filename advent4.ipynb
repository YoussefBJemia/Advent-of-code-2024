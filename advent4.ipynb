{
 "cells": [
  {
   "cell_type": "code",
   "execution_count": 1,
   "metadata": {},
   "outputs": [],
   "source": [
    "input = [\n",
    "    \"MMMSXXMASM\",\n",
    "    \"MSAMXMSMSA\",\n",
    "    \"AMXSXMAAMM\",\n",
    "    \"MSAMASMSMX\",\n",
    "    \"XMASAMXAMM\",\n",
    "    \"XXAMMXXAMA\",\n",
    "    \"SMSMSASXSS\",\n",
    "    \"SAXAMASAAA\",\n",
    "    \"MAMMMXMMMM\",\n",
    "    \"MXMXAXMASX\"\n",
    "]\n"
   ]
  },
  {
   "cell_type": "code",
   "execution_count": 68,
   "metadata": {},
   "outputs": [],
   "source": [
    "def count_word_occurrences(text_file, word):\n",
    "    input = text_file.splitlines()\n",
    "    count_horizontal = 0\n",
    "    count_vertical = 0\n",
    "    count_diagonal = 0 \n",
    "\n",
    "    # Horizontal count\n",
    "    for line in input:\n",
    "        # Count occurrences in the current line (left-to-right and right-to-left)\n",
    "        count_horizontal += line.count(word) + line.count(word[::-1])\n",
    "\n",
    "    # Vertical count\n",
    "    for col in range(len(input[0])):\n",
    "        for row in range(len(input) - len(word) + 1):\n",
    "            # Check top-to-bottom\n",
    "            if all(input[row + i][col] == word[i] for i in range(len(word))):\n",
    "                count_vertical += 1\n",
    "            # Check bottom-to-top (reversed word)\n",
    "            if all(input[row + i][col] == word[::-1][i] for i in range(len(word))):\n",
    "                count_vertical += 1\n",
    "\n",
    "    # Diagonal count\n",
    "    for row in range(len(input) - len(word) + 1):\n",
    "        for col in range(len(input[0])):\n",
    "            # Check down-right\n",
    "            if col <= len(input[0]) - len(word):\n",
    "                if all(input[row + i][col + i] == word[i] for i in range(len(word))):\n",
    "                    count_diagonal += 1\n",
    "            # Check down-left\n",
    "            if col >= len(word) - 1:\n",
    "                if all(input[row + i][col - i] == word[i] for i in range(len(word))):\n",
    "                    count_diagonal += 1\n",
    "            # Check up-right (reversed word)\n",
    "            if col <= len(input[0]) - len(word):\n",
    "                if all(input[row + i][col + i] == word[::-1][i] for i in range(len(word))):\n",
    "                    count_diagonal += 1\n",
    "            # Check up-left (reversed word)\n",
    "            if col >= len(word) - 1:\n",
    "                if all(input[row + i][col - i] == word[::-1][i] for i in range(len(word))):\n",
    "                    count_diagonal += 1\n",
    "\n",
    "    print(f\"{word} appears {count_horizontal} times horizontally and {count_vertical} times vertically and {count_diagonal} times diagonally\")\n",
    "    print(f\"{word} appears {count_horizontal + count_vertical + count_diagonal} times in total\")\n"
   ]
  },
  {
   "cell_type": "code",
   "execution_count": 64,
   "metadata": {},
   "outputs": [],
   "source": [
    "def find_xmas(text_file):\n",
    "    \"\"\"Take input a text file and returns the number of times the word XMAS appears in the text file\"\"\"\n",
    "    \n",
    "    input = text_file.splitlines()\n",
    "    count_horizontally = 0\n",
    "    count_vertically = 0\n",
    "    count_diagonally = 0\n",
    "\n",
    "    #Count horizental:\n",
    "    \"\"\"Find occurences XMAS or SAMX in each line\"\"\"\n",
    "    for line in input:\n",
    "        count_in_line = line.count(\"XMAS\") + line.count(\"SAMX\")  # Count occurrences in the current line\n",
    "        count_horizontally += count_in_line\n",
    "\n",
    "    #Count vertical:\n",
    "    \"\"\"Goes through every line, if encounter an X or S, check if the next 3 letters are MAS or AMX within the same column\"\"\"\n",
    "    for line in range(len(input)-3):\n",
    "        for column in range(len(input[line])):\n",
    "            if input[line][column] == \"X\":\n",
    "                if input[line+1][column] == \"M\" and input[line+2][column] == \"A\" and input[line+3][column] == \"S\":\n",
    "                    count_vertically += 1\n",
    "            elif input[line][column] == \"S\":\n",
    "                if input[line +1][column] == \"A\" and input[line +2][column] == \"M\" and input[line +3][column] == \"X\":\n",
    "                    count_vertically += 1\n",
    "\n",
    "    \n",
    "    #Count diagonally:\n",
    "    for line in range(len(input)-3):\n",
    "        for column in range(len(input[line])):\n",
    "            #Direction down right to find XMAS\n",
    "            if input[line][column] == \"X\" and column <= len(input[line]) - 3:\n",
    "                if input[line+1][column+1] == \"M\" and input[line+2][column+2] == \"A\" and input[line+3][column+3] == \"S\":\n",
    "                    count_diagonally += 1\n",
    "            #Direction down left to find XMAS\n",
    "            if input[line][column] == \"X\" and column >= 3:\n",
    "                if input[line+1][column-1] == \"M\" and input[line+2][column-2] == \"A\" and input[line+3][column-3] == \"S\":\n",
    "                    count_diagonally += 1\n",
    "            #Direction up left to find XMAS or equivalently down right to find SAMX\n",
    "            if input[line][column] == \"S\" and column <= len(input[line]) - 3:\n",
    "                if (input[line+1][column+1] == \"A\" and input[line+2][column+2] == \"M\" and input[line+3][column+3] == \"X\"):\n",
    "                    count_diagonally += 1\n",
    "            #Direction up right to find XMAS or equivalently down left to find SAMX\n",
    "            if input[line][column] == \"S\" and column >= 3:\n",
    "                if (input[line+1][column-1] == \"A\" and input[line+2][column-2] == \"M\" and input[line+3][column-3] == \"X\"):\n",
    "                    count_diagonally += 1\n",
    "            else:\n",
    "                pass\n",
    "    print(f\"word appears {count_horizontally} times horizentally and {count_vertically} times vertically and {count_diagonally} times diagonally\")\n",
    "    print(f\"word appears {count_horizontally + count_vertically + count_diagonally} times in total\")"
   ]
  },
  {
   "cell_type": "code",
   "execution_count": 76,
   "metadata": {},
   "outputs": [],
   "source": [
    "file = \"\"\"MMMSXXMASM\n",
    "MSAMXMSMSA\n",
    "AMXSXMAAMM\n",
    "MSAMASMSMX\n",
    "XMASAMXAMM\n",
    "XXAMMXXAMA\n",
    "SMSMSASXSS\n",
    "SAXAMASAAA\n",
    "MAMMMXMMMM\n",
    "MXMXAXMASX\"\"\""
   ]
  },
  {
   "cell_type": "code",
   "execution_count": 77,
   "metadata": {},
   "outputs": [
    {
     "name": "stdout",
     "output_type": "stream",
     "text": [
      "['MMMSXXMASM', 'MSAMXMSMSA', 'AMXSXMAAMM', 'MSAMASMSMX', 'XMASAMXAMM', 'XXAMMXXAMA', 'SMSMSASXSS', 'SAXAMASAAA', 'MAMMMXMMMM', 'MXMXAXMASX']\n"
     ]
    }
   ],
   "source": [
    "input = file.splitlines()\n",
    "print(input)"
   ]
  },
  {
   "cell_type": "code",
   "execution_count": 90,
   "metadata": {},
   "outputs": [
    {
     "name": "stdout",
     "output_type": "stream",
     "text": [
      "X-MAS appears 9 times\n"
     ]
    }
   ],
   "source": [
    "input = file.splitlines()\n",
    "count = 0\n",
    "for line in range(len(input)-2):\n",
    "    for column in range(len(input[line])-2):\n",
    "        if (input[line][column] == \"M\" or input[line][column] == \"S\") and (input[line][column+2] == \"M\" or input[line][column+2] == \"S\"):\n",
    "            if input[line+1][column+1] == \"A\":\n",
    "                if (input[line+2][column] == \"M\" or input[line+2][column] == \"S\") and (input[line+2][column+2] == \"M\" or input[line+2][column+2] == \"S\") and (input[line][column] != input[line+2][column+2]) and (input[line+2][column] != input[line][column+2]):\n",
    "                        count += 1\n",
    "print(f\"X-MAS appears {count} times\")"
   ]
  },
  {
   "cell_type": "code",
   "execution_count": null,
   "metadata": {},
   "outputs": [],
   "source": [
    "count = 0\n",
    "for line in range(len(input)-2):\n",
    "    for column in range(len(input[line])-2):\n",
    "        if (input[line][column] == \"M\" or input[line][column] == \"S\") and (input[line][column+2] == \"M\" or input[line][column+2] == \"S\"):\n",
    "            if input[line+1][column+1] == \"A\":\n",
    "                if (input[line+2][column] == \"M\" or input[line+2][column] == \"S\") and (input[line+2][column+2] == \"M\" or input[line+2][column+2] == \"S\"):\n",
    "                    print(f\"Match at line {line}, column {column}\")\n",
    "                    print(f\"Pattern: {input[line][column]}{input[line][column+1]}{input[line][column+2]}\")\n",
    "                    print(f\"         {input[line+1][column]}{input[line+1][column+1]}{input[line+1][column+2]}\")\n",
    "                    print(f\"         {input[line+2][column]}{input[line+2][column+1]}{input[line+2][column+2]}\")\n",
    "                    count += 1\n",
    "print(f\"Total occurrences: {count}\")"
   ]
  },
  {
   "cell_type": "code",
   "execution_count": 91,
   "metadata": {},
   "outputs": [
    {
     "data": {
      "text/plain": [
       "9"
      ]
     },
     "execution_count": 91,
     "metadata": {},
     "output_type": "execute_result"
    }
   ],
   "source": [
    "def count_xmas_patterns(input):\n",
    "    \"\"\"Take input a text file and returns the number of times the X-MAS pattern appears in the input\"\"\"\n",
    "    count = 0\n",
    "\n",
    "    # Dimensions of the grid\n",
    "    rows, cols = len(input), len(input[0])\n",
    "\n",
    "    # Helper function to check if a cell contains \"M\" or \"S\"\n",
    "    def is_m_or_s(char):\n",
    "        return char in {\"M\", \"S\"}\n",
    "\n",
    "    # Iterate over rows and columns within bounds for the pattern\n",
    "    for row in range(rows - 2):\n",
    "        for col in range(cols - 2):\n",
    "            if (\n",
    "                is_m_or_s(input[row][col])  # Top-left corner\n",
    "                and is_m_or_s(input[row][col + 2])  # Top-right corner\n",
    "                and input[row + 1][col + 1] == \"A\"  # Middle point\n",
    "                and is_m_or_s(input[row + 2][col])  # Bottom-left corner\n",
    "                and is_m_or_s(input[row + 2][col + 2])  # Bottom-right corner\n",
    "                and input[row][col] != input[row + 2][col + 2]  # Top-left ≠ Bottom-right\n",
    "                and input[row + 2][col] != input[row][col + 2]  # Bottom-left ≠ Top-right\n",
    "            ):\n",
    "                count += 1\n",
    "    print(f\"X-MAS appears {count} times\")"
   ]
  }
 ],
 "metadata": {
  "kernelspec": {
   "display_name": "Python 3",
   "language": "python",
   "name": "python3"
  },
  "language_info": {
   "codemirror_mode": {
    "name": "ipython",
    "version": 3
   },
   "file_extension": ".py",
   "mimetype": "text/x-python",
   "name": "python",
   "nbconvert_exporter": "python",
   "pygments_lexer": "ipython3",
   "version": "3.12.3"
  }
 },
 "nbformat": 4,
 "nbformat_minor": 2
}
