{
 "cells": [
  {
   "cell_type": "code",
   "execution_count": 40,
   "metadata": {},
   "outputs": [],
   "source": [
    "file = \"\"\"##########\n",
    "#..O..O.O#\n",
    "#......O.#\n",
    "#.OO..O.O#\n",
    "#..O@..O.#\n",
    "#O#..O...#\n",
    "#O..O..O.#\n",
    "#.OO.O.OO#\n",
    "#....O...#\n",
    "##########\n",
    "\n",
    "<vv>^<v^>v>^vv^v>v<>v^v<v<^vv<<<^><<><>>v<vvv<>^v^>^<<<><<v<<<v^vv^v>^\n",
    "vvv<<^>^v^^><<>>><>^<<><^vv^^<>vvv<>><^^v>^>vv<>v<<<<v<^v>^<^^>>>^<v<v\n",
    "><>vv>v^v^<>><>>>><^^>vv>v<^^^>>v^v^<^^>v^^>v^<^v>v<>>v^v^<v>v^^<^^vv<\n",
    "<<v<^>>^^^^>>>v^<>vvv^><v<<<>^^^vv^<vvv>^>v<^^^^v<>^>vvvv><>>v^<<^^^^^\n",
    "^><^><>>><>^^<<^^v>>><^<v>^<vv>>v>>>^v><>^v><<<<v>>v<v<v>vvv>^<><<>^><\n",
    "^>><>^v<><^vvv<^^<><v<<<<<><^v<<<><<<^^<v<^^^><^>>^<v^><<<^>>^v<v^v<v^\n",
    ">^>>^v>vv>^<<^v<>><<><<v<<v><>v<^vv<<<>^^v^>^^>>><<^v>>v^v><^^>>^<>vv^\n",
    "<><^^>^^^<><vvvvv^v<v<<>^v<v>v<<^><<><<><<<^^<<<^<<>><<><^^^>^^<>^>v<>\n",
    "^^>vv<^v^v<vv>^<><v<^v>^^^>>>^^vvv^>vvv<>>>^<^>>>>>^<<^v>^vvv<>^<><<v>\n",
    "v^^>>><<^^<>>^v^<v^vv<>v^<<>^<^v^v><^<<<><<^<v><v<>vv>>v><v^<vv<>v^<<^\"\"\""
   ]
  },
  {
   "cell_type": "code",
   "execution_count": 60,
   "metadata": {},
   "outputs": [
    {
     "name": "stdout",
     "output_type": "stream",
     "text": [
      "1490942\n"
     ]
    }
   ],
   "source": [
    "map, directions = file.split(\"\\n\\n\")\n",
    "map = [list(l) for l in map.split(\"\\n\")]\n",
    "rows, cols = len(map), len(map[0])\n",
    "\n",
    "def move(direction):\n",
    "    if direction == \">\":\n",
    "        return (0, 1)\n",
    "    if direction == \"<\":\n",
    "        return (0, -1)\n",
    "    if direction == \"^\":\n",
    "        return (-1, 0)\n",
    "    if direction == \"v\":\n",
    "        return (1, 0)\n",
    "\n",
    "cx, cy = 0, 0\n",
    "for row in range(rows):\n",
    "    for col in range(cols):\n",
    "        if map[row][col] == \"@\":\n",
    "            cx, cy = row, col\n",
    "            break\n",
    "\n",
    "\n",
    "for direction in directions.replace(\"\\n\",\"\"):\n",
    "    dx, dy = move(direction)\n",
    "    boxes = []\n",
    "    nx, ny = cx + dx, cy + dy\n",
    "\n",
    "    while map[nx][ny] == \"O\":\n",
    "        boxes.append((nx, ny))\n",
    "        nx += dx\n",
    "        ny += dy\n",
    "    \n",
    "\n",
    "    if map[nx][ny] == \"#\":\n",
    "        pass\n",
    "    else:\n",
    "        #print(f\"map[{nx}][{ny}] = {map[nx][ny]}\")\n",
    "        assert map[nx][ny] == \".\"\n",
    "        target = [(cx, cy)] + boxes + [(nx, ny)]\n",
    "        for (x1, y1), (x2, y2) in list(zip(target, target[1:]))[::-1]:\n",
    "            map[x2][y2] = map[x1][y1]\n",
    "        map[cx][cy] = \".\"\n",
    "        cx, cy = cx + dx, cy + dy\n",
    "ans = 0\n",
    "for i in range(rows):\n",
    "    for j in range(cols):\n",
    "        if map[i][j] != \"O\":\n",
    "            continue\n",
    "        ans += 100 * i + j\n",
    "print(ans)\n",
    "    "
   ]
  }
 ],
 "metadata": {
  "kernelspec": {
   "display_name": "Python 3",
   "language": "python",
   "name": "python3"
  },
  "language_info": {
   "codemirror_mode": {
    "name": "ipython",
    "version": 3
   },
   "file_extension": ".py",
   "mimetype": "text/x-python",
   "name": "python",
   "nbconvert_exporter": "python",
   "pygments_lexer": "ipython3",
   "version": "3.12.3"
  }
 },
 "nbformat": 4,
 "nbformat_minor": 2
}
