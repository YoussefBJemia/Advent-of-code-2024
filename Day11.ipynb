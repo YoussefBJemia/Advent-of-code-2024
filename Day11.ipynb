{
 "cells": [
  {
   "cell_type": "code",
   "execution_count": 27,
   "metadata": {},
   "outputs": [],
   "source": [
    "file = \"\"\"572556 22 0 528 4679021 1 10725 2790\"\"\"\n",
    "test = \"\"\"125 17\"\"\""
   ]
  },
  {
   "cell_type": "code",
   "execution_count": 80,
   "metadata": {},
   "outputs": [
    {
     "name": "stdout",
     "output_type": "stream",
     "text": [
      "Number of stones after 75 blinks: 270673834779359\n"
     ]
    }
   ],
   "source": [
    "from collections import defaultdict\n",
    "\n",
    "def split_number(number):\n",
    "    \"\"\"Split a number with an even number of digits into two parts.\"\"\"\n",
    "    mid = len(number) // 2\n",
    "    left = int(number[:mid])  # Left half of the string\n",
    "    right = int(number[mid:])  # Right half of the string\n",
    "    # Convert both parts back to integers\n",
    "    left, right = str(left), str(right)\n",
    "    return left, right\n",
    "\n",
    "def count_stones_after_blinks(initial_stones, total_blinks):\n",
    "    \"\"\"Simulate the evolution of stones and count them after the given blinks.\"\"\"\n",
    "    # Initialize the defaultdict to automatically handle missing keys\n",
    "    stone_counts = defaultdict(int)\n",
    "\n",
    "    for stone in initial_stones:\n",
    "        stone_counts[stone] += 1  # Increment count for each stone\n",
    "\n",
    "    for _ in range(total_blinks):\n",
    "        next_stone_counts = defaultdict(int)\n",
    "\n",
    "        for stone, count in stone_counts.items():\n",
    "            if stone == \"0\":\n",
    "                next_stone_counts[\"1\"] += count\n",
    "            elif len(stone) % 2 == 0:\n",
    "                left, right = split_number(stone)\n",
    "                next_stone_counts[left] += count\n",
    "                next_stone_counts[right] += count\n",
    "            else:\n",
    "                next_stone_counts[str(int(stone) * 2024)] += count\n",
    "\n",
    "        stone_counts = next_stone_counts\n",
    "\n",
    "    return sum(stone_counts.values())\n",
    "\n",
    "# Input and execution\n",
    "initial_stones = file.split()\n",
    "blinks = 75\n",
    "result = count_stones_after_blinks(initial_stones, blinks)\n",
    "print(f\"Number of stones after {blinks} blinks: {result}\")\n"
   ]
  }
 ],
 "metadata": {
  "kernelspec": {
   "display_name": "base",
   "language": "python",
   "name": "python3"
  },
  "language_info": {
   "codemirror_mode": {
    "name": "ipython",
    "version": 3
   },
   "file_extension": ".py",
   "mimetype": "text/x-python",
   "name": "python",
   "nbconvert_exporter": "python",
   "pygments_lexer": "ipython3",
   "version": "3.12.3"
  }
 },
 "nbformat": 4,
 "nbformat_minor": 2
}
